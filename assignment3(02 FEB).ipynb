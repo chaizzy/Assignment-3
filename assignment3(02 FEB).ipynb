{
 "cells": [
  {
   "cell_type": "code",
   "execution_count": 9,
   "id": "b4a31f7f-bc0d-429c-a529-c151dad6a58c",
   "metadata": {},
   "outputs": [
    {
     "name": "stdin",
     "output_type": "stream",
     "text": [
      "Enter the number  45\n"
     ]
    },
    {
     "name": "stdout",
     "output_type": "stream",
     "text": [
      "2\n"
     ]
    },
    {
     "name": "stdin",
     "output_type": "stream",
     "text": [
      "enter the number 6\n"
     ]
    },
    {
     "name": "stdout",
     "output_type": "stream",
     "text": [
      "0\n",
      "1\n",
      "2\n",
      "3\n",
      "4\n",
      "5\n"
     ]
    }
   ],
   "source": [
    "# ANS 1\n",
    "# WHILE LOOP\n",
    "#we use while loop , when we have to iterate some variable with a specific condition\n",
    "#for example , in above question we have a condtion that number should not be less than 10\n",
    "#we are allowing the loop to iterate , until number is less than 10\n",
    "number = int(input(\"Enter the number \"))\n",
    "counter = 0\n",
    "while number > 10: \n",
    "    number = number / 3 \n",
    "    counter = counter + 1 \n",
    "print(counter)\n",
    "\n",
    "#FOR LOOP\n",
    "# we use for loop ,in case when we have to iterate something in a specific range of order .\n",
    "# range can anything like , from a particular number to any number , list , set etc.\n",
    "#but the for loop will iterate completely within the given range.\n",
    "# for example\n",
    "n = int(input(\"enter the number\"))\n",
    "for i in range(0,n):\n",
    "    print(i)"
   ]
  },
  {
   "cell_type": "code",
   "execution_count": 10,
   "id": "173c9723-5dcc-4445-b5d7-713eeb7fafa4",
   "metadata": {},
   "outputs": [
    {
     "name": "stdout",
     "output_type": "stream",
     "text": [
      "sum of first natural numbers are: 55\n",
      "product of first natural numbers : 3628800\n",
      "sum of first natural numbers are: 55\n",
      "product of first natural numbers : 3628800\n"
     ]
    }
   ],
   "source": [
    "#ANS 2 using while loop\n",
    "sum1 = 0\n",
    "product = 1\n",
    "for i in range(1,11):\n",
    "    sum1 = sum1 + i\n",
    "    product = product * i\n",
    "print(\"sum of first natural numbers are:\" , sum1)\n",
    "print(\"product of first natural numbers :\" , product)\n",
    "\n",
    "\n",
    "#Using while loop\n",
    "sum1 = 0\n",
    "product = 1\n",
    "n = 1\n",
    "while n <= 10 :\n",
    "    sum1 = sum1 + n\n",
    "    product = product * n\n",
    "    n = n+1\n",
    "print(\"sum of first natural numbers are:\" , sum1)\n",
    "print(\"product of first natural numbers :\" , product)\n"
   ]
  },
  {
   "cell_type": "code",
   "execution_count": 11,
   "id": "40bfb301-e140-499c-a625-78771097e3d9",
   "metadata": {},
   "outputs": [
    {
     "name": "stdin",
     "output_type": "stream",
     "text": [
      "Enter the units of eletricity consumed : 310\n"
     ]
    },
    {
     "name": "stdout",
     "output_type": "stream",
     "text": [
      "electricity cost will : 2250.0\n"
     ]
    }
   ],
   "source": [
    "# ANS 3:\n",
    "units = int(input(\"Enter the units of eletricity consumed :\"))\n",
    "elec_cost = 0\n",
    "if units <= 100:\n",
    "    elec_cost = units * 4.5\n",
    "elif units > 100  and units <= 200 :\n",
    "    r = units % 100\n",
    "    elec_cost = (r*6) + (100*4.5)\n",
    "elif units > 200 and units <= 300:\n",
    "    r = units % 200\n",
    "    elec_cost = (r*10) + (100*6) + (100*4.5)\n",
    "else:\n",
    "    r = units % 300\n",
    "    elec_cost = (r*20) + (100*10) + (100*6) + (100*4.5)\n",
    "\n",
    "print(\"electricity cost will :\" , elec_cost)    \n",
    "     \n",
    "    \n",
    "    \n",
    "    \n",
    "        "
   ]
  },
  {
   "cell_type": "code",
   "execution_count": 12,
   "id": "2c69b3c3-f4f8-4f6b-8db4-63c3f93d1124",
   "metadata": {},
   "outputs": [
    {
     "name": "stdout",
     "output_type": "stream",
     "text": [
      "[8, 64, 125, 216, 512, 1000, 1728, 2744, 3375, 4096, 5832, 8000, 10648, 13824, 15625, 17576, 21952, 27000, 32768, 39304, 42875, 46656, 54872, 64000, 74088, 85184, 91125, 97336, 110592, 125000, 140608, 157464, 166375, 175616, 195112, 216000, 238328, 262144, 274625, 287496, 314432, 343000, 373248, 405224, 421875, 438976, 474552, 512000, 551368, 592704, 614125, 636056, 681472, 729000, 778688, 830584, 857375, 884736, 941192, 1000000]\n"
     ]
    }
   ],
   "source": [
    "#ANS 4:\n",
    "l=[]\n",
    "for i in range(1,101):\n",
    "    l.append(i**3)\n",
    "#print(l)\n",
    "l2=[]\n",
    "for i in l:\n",
    "    if i%4==0 or i%5==0:\n",
    "        l2.append(i)\n",
    "print(l2)\n",
    "\n",
    "\n",
    " \n",
    "\n",
    "    "
   ]
  },
  {
   "cell_type": "code",
   "execution_count": 13,
   "id": "5fd9fa8b-af5a-4122-ba17-325435596c0a",
   "metadata": {},
   "outputs": [
    {
     "name": "stdout",
     "output_type": "stream",
     "text": [
      "no. of vowels in a given string is : 11\n"
     ]
    }
   ],
   "source": [
    "# ANS 5\n",
    "string = \"I want to become a data scientist\"\n",
    "counter = 0\n",
    "for z in range (len(string)):\n",
    "    if string[z]==\"a\" or string[z]==(\"e\") or string[z]==(\"i\" ) or string[z]==(\"o\") or string[z]==(\"u\") :\n",
    "        counter = counter + 1\n",
    "print(\"no. of vowels in a given string is :\" , counter)    \n",
    "    "
   ]
  },
  {
   "cell_type": "code",
   "execution_count": null,
   "id": "7396e956-c7e5-4f3c-8af7-feb89d1f23b5",
   "metadata": {},
   "outputs": [],
   "source": []
  }
 ],
 "metadata": {
  "kernelspec": {
   "display_name": "Python 3 (ipykernel)",
   "language": "python",
   "name": "python3"
  },
  "language_info": {
   "codemirror_mode": {
    "name": "ipython",
    "version": 3
   },
   "file_extension": ".py",
   "mimetype": "text/x-python",
   "name": "python",
   "nbconvert_exporter": "python",
   "pygments_lexer": "ipython3",
   "version": "3.10.8"
  }
 },
 "nbformat": 4,
 "nbformat_minor": 5
}
